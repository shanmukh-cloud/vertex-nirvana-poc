{
 "cells": [
  {
   "cell_type": "code",
   "execution_count": null,
   "id": "d557c4fd-c550-4258-be29-3668fef480cf",
   "metadata": {},
   "outputs": [],
   "source": [
    "# Install the packages\n",
    "! pip3 install --upgrade google-cloud-aiplatform \\\n",
    "                        google-cloud-storage \\\n",
    "                        'kfp<2' \\\n",
    "                        'google-cloud-pipeline-components<2'"
   ]
  },
  {
   "cell_type": "code",
   "execution_count": null,
   "id": "6a21b58c-3289-444e-8c3b-1fc480c3b466",
   "metadata": {},
   "outputs": [],
   "source": [
    "# Automatically restart kernel after installs so that your environment can access the new packages\n",
    "import IPython\n",
    "\n",
    "app = IPython.Application.instance()\n",
    "app.kernel.do_shutdown(True)"
   ]
  },
  {
   "cell_type": "code",
   "execution_count": null,
   "id": "a589b426-6a29-47db-ba86-aee88ffd2dba",
   "metadata": {},
   "outputs": [],
   "source": [
    "! python3 -c \"import kfp; print('KFP SDK version: {}'.format(kfp.__version__))\""
   ]
  },
  {
   "cell_type": "code",
   "execution_count": null,
   "id": "e159dfe4-6a78-4c62-a30a-78b53c84fa4e",
   "metadata": {},
   "outputs": [],
   "source": [
    "! gcloud config list"
   ]
  },
  {
   "cell_type": "code",
   "execution_count": null,
   "id": "5ddf2cd0-eb21-4f74-b1d2-f5f10faf8117",
   "metadata": {},
   "outputs": [],
   "source": [
    "PROJECT_ID = \"vertex-nirvana-poc\"  # @param {type:\"string\"}\n",
    "\n",
    "# Set the project id\n",
    "! gcloud config set project {PROJECT_ID}"
   ]
  },
  {
   "cell_type": "code",
   "execution_count": null,
   "id": "dc161b44-003a-40b9-a941-882929eff500",
   "metadata": {},
   "outputs": [],
   "source": [
    "REGION = \"us-central1\"  # @param {type: \"string\"}"
   ]
  },
  {
   "cell_type": "code",
   "execution_count": null,
   "id": "c003c3cf-2641-4431-9782-b19e29a2d535",
   "metadata": {},
   "outputs": [],
   "source": [
    "BUCKET_URI = \"gs://vertex-nirvana-poc\"  # @param {type:\"string\"}"
   ]
  },
  {
   "cell_type": "code",
   "execution_count": null,
   "id": "12543117-33ac-4c45-8b44-223849fff733",
   "metadata": {},
   "outputs": [],
   "source": [
    "BUCKET = f\"gs://vertex-nirvana-poc/\""
   ]
  },
  {
   "cell_type": "code",
   "execution_count": null,
   "id": "be8828fd-d0e5-4641-982b-241d35836a16",
   "metadata": {},
   "outputs": [],
   "source": [
    "SERVICE_ACCOUNT = \"665554893092-compute@developer.gserviceaccount.com\""
   ]
  },
  {
   "cell_type": "code",
   "execution_count": null,
   "id": "e6369443-1f3b-416b-92ae-2136fdfce2cf",
   "metadata": {},
   "outputs": [],
   "source": [
    "! gsutil iam ch serviceAccount:{SERVICE_ACCOUNT}:roles/storage.objectCreator $BUCKET_URI\n",
    "\n",
    "! gsutil iam ch serviceAccount:{SERVICE_ACCOUNT}:roles/storage.objectViewer $BUCKET_URI"
   ]
  },
  {
   "cell_type": "markdown",
   "id": "15797194-23a5-4d2e-871e-109080989571",
   "metadata": {},
   "source": [
    "### Set up variables\n",
    "\n",
    "Next, set up some variables used throughout the tutorial.\n",
    "### Import libraries and define constants"
   ]
  },
  {
   "cell_type": "code",
   "execution_count": null,
   "id": "1f42a074-f124-4457-9127-8afa3911bee5",
   "metadata": {},
   "outputs": [],
   "source": [
    "from typing import NamedTuple\n",
    "\n",
    "import google.cloud.aiplatform as aip\n",
    "from kfp import dsl\n",
    "from kfp.v2 import compiler\n",
    "from kfp.v2.dsl import component"
   ]
  },
  {
   "cell_type": "code",
   "execution_count": null,
   "id": "f689f9ef-2c66-49b5-a149-5065b46f2f9b",
   "metadata": {},
   "outputs": [],
   "source": [
    "# API service endpoint\n",
    "API_ENDPOINT = \"{}-aiplatform.googleapis.com\".format(REGION)"
   ]
  },
  {
   "cell_type": "code",
   "execution_count": null,
   "id": "9b745b49-0fb1-4d62-a470-005561a0ce92",
   "metadata": {},
   "outputs": [],
   "source": [
    "PIPELINE_ROOT = \"{}/pipeline_root/intro\".format(BUCKET_URI)"
   ]
  },
  {
   "cell_type": "code",
   "execution_count": null,
   "id": "6147ecc9-d15f-4891-904f-1c1c8e8a62c3",
   "metadata": {},
   "outputs": [],
   "source": [
    "aip.init(project=PROJECT_ID, staging_bucket=BUCKET_URI)"
   ]
  },
  {
   "cell_type": "code",
   "execution_count": null,
   "id": "95095d66-7dfb-4dc3-b5e7-78a306657753",
   "metadata": {},
   "outputs": [],
   "source": [
    "from google.cloud import aiplatform as aip\n",
    "from kfp.v2.dsl import (\n",
    "    Artifact,\n",
    "    Dataset,\n",
    "    Input,\n",
    "    Model,\n",
    "    Output,\n",
    "    ClassificationMetrics,\n",
    "    component,\n",
    "    pipeline,\n",
    ")\n",
    "from kfp.v2 import compiler"
   ]
  },
  {
   "cell_type": "code",
   "execution_count": null,
   "id": "47692b76-ae47-4074-af58-375b63316da5",
   "metadata": {},
   "outputs": [],
   "source": [
    "from google_cloud_pipeline_components.v1.endpoint import EndpointCreateOp, ModelDeployOp\n",
    "from google_cloud_pipeline_components.v1.model import ModelUploadOp\n"
   ]
  },
  {
   "cell_type": "code",
   "execution_count": null,
   "id": "710426c6-4da6-4126-92d7-5b75730668d7",
   "metadata": {},
   "outputs": [],
   "source": [
    "PIPELINE_ROOT = \"{}/pipeline_root/intro\".format(BUCKET_URI)"
   ]
  },
  {
   "cell_type": "code",
   "execution_count": null,
   "id": "cbc5d97b-1dbf-4c04-a8a9-85d15e577176",
   "metadata": {},
   "outputs": [],
   "source": [
    "from kfp import dsl\n",
    "\n",
    "@dsl.component\n",
    "def conditional_branch_op(output: str) -> str:\n",
    "    \"\"\"Conditionally branch based on the output value.\"\"\"\n",
    "    # Define your condition logic here\n",
    "    if output == \"Hello, world!\":\n",
    "        return \"condition_met\"\n",
    "    else:\n",
    "        return \"condition_not_met\"\n"
   ]
  },
  {
   "cell_type": "code",
   "execution_count": null,
   "id": "4eeddab4-56e9-4de2-8f50-8c94f06c4a16",
   "metadata": {},
   "outputs": [],
   "source": [
    "from typing import NamedTuple\n",
    "import kfp\n",
    "from kfp import dsl, components\n",
    "\n",
    "# Define your component functions here\n",
    "\n",
    "@components.func_to_container_op\n",
    "# def hello_world(text: str) -> str:\n",
    "#     print(text)\n",
    "#     return text\n",
    "#@func_to_container_op\n",
    "def hello_world(text: str) -> str:\n",
    "    return f\"Hello, {text}!\"\n",
    "\n",
    "\n",
    "#     return step1.output , step2.output, step3.output, step4.output\n",
    "@dsl.pipeline(name='Conditional Hello World Pipeline')\n",
    "def conditional_hello_world_pipeline(input_condition: str) -> NamedTuple(\n",
    "    'Outputs',\n",
    "    [\n",
    "        ('step1_output', str),\n",
    "        ('step2_output', str),\n",
    "        ('step3_output', str),\n",
    "        ('step4_output', str),\n",
    "    ]\n",
    "):\n",
    "    # Step 1: Call the hello_world function with \"world\" input\n",
    "    step1 = hello_world(\"world\")\n",
    "\n",
    "    # Step 2: Use the input_condition parameter to control the branching\n",
    "    with dsl.Condition(input_condition == \"condition_met\"):\n",
    "        # If the input_condition is \"condition_met\", execute this branch\n",
    "        step2 = hello_world(\"Alice\")\n",
    "\n",
    "    with dsl.Condition(input_condition == \"condition_met\"):\n",
    "        # If the input_condition is \"condition_met\", execute this branch\n",
    "        step3 = hello_world(\"Bob\")\n",
    "\n",
    "    # Step 4: Always execute this step\n",
    "    step4 = hello_world(\"OpenAI\")\n",
    "\n",
    "    return step1.output, step2.output, step3.output, step4.output\n",
    "\n",
    "\n",
    "@dsl.pipeline(\n",
    "    name=\"intro-pipeline-unique\",\n",
    "    description=\"A simple intro pipeline\",\n",
    "    pipeline_root=PIPELINE_ROOT,\n",
    ")\n",
    "def pipeline(text: str = \"hello world\"):\n",
    "    hw_task = hello_world(text)\n",
    "    # two_outputs_task = two_outputs(text)\n",
    "    conditional_hello_world_pipeline_task = conditional_hello_world_pipeline(hw_task.output)\n",
    "    # consumer_task = consumer(\n",
    "    #     hw_task.output,\n",
    "    #     two_outputs_task.outputs[\"output_one\"],\n",
    "    #     two_outputs_task.outputs[\"output_two\"],\n",
    "    # )\n",
    "\n",
    "if __name__ == '__main__':\n",
    "    compiler.Compiler().compile(pipeline_func=pipeline, package_path=\"Conditional_pipeline_job_with_caching.json\")\n",
    "    DISPLAY_NAME = \"Conditional_pipeline_job_with_caching\"\n",
    "    job = aip.PipelineJob(\n",
    "        display_name=DISPLAY_NAME,\n",
    "        template_path=\"Conditional_pipeline_job_with_caching.json\",\n",
    "        pipeline_root=PIPELINE_ROOT,\n",
    "        enable_caching=True,\n",
    "    )\n",
    "    job.run()\n"
   ]
  },
  {
   "cell_type": "code",
   "execution_count": null,
   "id": "0df9693b-6628-4238-965d-ef4d5ebfcc97",
   "metadata": {},
   "outputs": [],
   "source": [
    "from kfp.v2 import compiler  # noqa: F811\n",
    "\n",
    "compiler.Compiler().compile(pipeline_func=pipeline, package_path=\"intro_pipeline.json\")"
   ]
  },
  {
   "cell_type": "code",
   "execution_count": null,
   "id": "5538a963-35db-4775-ad70-424d00b4145a",
   "metadata": {},
   "outputs": [],
   "source": [
    "DISPLAY_NAME = \"intro_pipeline_job_unique\"\n",
    "\n",
    "job = aip.PipelineJob(\n",
    "    display_name=DISPLAY_NAME,\n",
    "    template_path=\"intro_pipeline.json\",\n",
    "    pipeline_root=PIPELINE_ROOT,\n",
    ")\n",
    "\n",
    "job.run()"
   ]
  },
  {
   "cell_type": "code",
   "execution_count": null,
   "id": "e7d336c7-809b-4178-8887-80cbe192d1d5",
   "metadata": {},
   "outputs": [],
   "source": [
    "job.delete()"
   ]
  },
  {
   "cell_type": "code",
   "execution_count": null,
   "id": "dabe5f02-acdb-455f-ad36-fb414db9863b",
   "metadata": {},
   "outputs": [],
   "source": [
    "job = aip.PipelineJob(\n",
    "    display_name=\"intro_pipeline_job_cached_unique\",\n",
    "    template_path=\"intro_pipeline.json\",\n",
    "    enable_caching=True,\n",
    ")\n",
    "\n",
    "job.run()"
   ]
  },
  {
   "cell_type": "code",
   "execution_count": null,
   "id": "6ad5b309-c1c6-4eb0-b6f6-76ad0d8de435",
   "metadata": {},
   "outputs": [],
   "source": [
    "job.delete()"
   ]
  }
 ],
 "metadata": {
  "environment": {
   "kernel": "python3",
   "name": "tf2-cpu.2-11.m112",
   "type": "gcloud",
   "uri": "gcr.io/deeplearning-platform-release/tf2-cpu.2-11:m112"
  },
  "kernelspec": {
   "display_name": "Python 3",
   "language": "python",
   "name": "python3"
  },
  "language_info": {
   "codemirror_mode": {
    "name": "ipython",
    "version": 3
   },
   "file_extension": ".py",
   "mimetype": "text/x-python",
   "name": "python",
   "nbconvert_exporter": "python",
   "pygments_lexer": "ipython3",
   "version": "3.10.12"
  }
 },
 "nbformat": 4,
 "nbformat_minor": 5
}
